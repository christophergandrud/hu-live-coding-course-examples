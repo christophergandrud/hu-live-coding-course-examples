{
 "cells": [
  {
   "cell_type": "markdown",
   "metadata": {},
   "source": [
    "# Test Tabula Python for Extracting Python Tables"
   ]
  },
  {
   "cell_type": "markdown",
   "metadata": {},
   "source": [
    "# Set up \n",
    "\n",
    "Install tabula\n",
    "\n",
    "```\n",
    "pip install tabula-py\n",
    "```"
   ]
  },
  {
   "cell_type": "markdown",
   "metadata": {},
   "source": [
    "## Extract a Table"
   ]
  },
  {
   "cell_type": "code",
   "execution_count": 3,
   "metadata": {},
   "outputs": [],
   "source": [
    "import tabula"
   ]
  },
  {
   "cell_type": "code",
   "execution_count": 9,
   "metadata": {},
   "outputs": [
    {
     "ename": "HTTPError",
     "evalue": "HTTP Error 403: Forbidden",
     "output_type": "error",
     "traceback": [
      "\u001b[0;31m---------------------------------------------------------------------------\u001b[0m",
      "\u001b[0;31mHTTPError\u001b[0m                                 Traceback (most recent call last)",
      "\u001b[1;32m/workspaces/hu-live-coding-course-examples/src/tabula-example.ipynb Cell 5'\u001b[0m in \u001b[0;36m<cell line: 2>\u001b[0;34m()\u001b[0m\n\u001b[1;32m      <a href='vscode-notebook-cell://codespaces%2Bhu-live-coding-course-examples-q96q9p7h4r6/workspaces/hu-live-coding-course-examples/src/tabula-example.ipynb#ch0000005vscode-remote?line=0'>1</a>\u001b[0m \u001b[39m# Example from tabula docs\u001b[39;00m\n\u001b[0;32m----> <a href='vscode-notebook-cell://codespaces%2Bhu-live-coding-course-examples-q96q9p7h4r6/workspaces/hu-live-coding-course-examples/src/tabula-example.ipynb#ch0000005vscode-remote?line=1'>2</a>\u001b[0m df \u001b[39m=\u001b[39m tabula\u001b[39m.\u001b[39;49mread_pdf(\u001b[39m\"\u001b[39;49m\u001b[39mhttps://www.visionofhumanity.org/wp-content/uploads/2020/10/GPI_2020_web.pdf\u001b[39;49m\u001b[39m\"\u001b[39;49m, pages\u001b[39m=\u001b[39;49m\u001b[39m10\u001b[39;49m)\n",
      "File \u001b[0;32m/opt/conda/lib/python3.10/site-packages/tabula/io.py:311\u001b[0m, in \u001b[0;36mread_pdf\u001b[0;34m(input_path, output_format, encoding, java_options, pandas_options, multiple_tables, user_agent, **kwargs)\u001b[0m\n\u001b[1;32m    <a href='file:///opt/conda/lib/python3.10/site-packages/tabula/io.py?line=307'>308</a>\u001b[0m     \u001b[39mif\u001b[39;00m \u001b[39mnot\u001b[39;00m \u001b[39many\u001b[39m(\u001b[39m\"\u001b[39m\u001b[39mfile.encoding\u001b[39m\u001b[39m\"\u001b[39m \u001b[39min\u001b[39;00m opt \u001b[39mfor\u001b[39;00m opt \u001b[39min\u001b[39;00m java_options):\n\u001b[1;32m    <a href='file:///opt/conda/lib/python3.10/site-packages/tabula/io.py?line=308'>309</a>\u001b[0m         java_options \u001b[39m+\u001b[39m\u001b[39m=\u001b[39m [\u001b[39m\"\u001b[39m\u001b[39m-Dfile.encoding=UTF8\u001b[39m\u001b[39m\"\u001b[39m]\n\u001b[0;32m--> <a href='file:///opt/conda/lib/python3.10/site-packages/tabula/io.py?line=310'>311</a>\u001b[0m path, temporary \u001b[39m=\u001b[39m localize_file(input_path, user_agent)\n\u001b[1;32m    <a href='file:///opt/conda/lib/python3.10/site-packages/tabula/io.py?line=312'>313</a>\u001b[0m \u001b[39mif\u001b[39;00m \u001b[39mnot\u001b[39;00m os\u001b[39m.\u001b[39mpath\u001b[39m.\u001b[39mexists(path):\n\u001b[1;32m    <a href='file:///opt/conda/lib/python3.10/site-packages/tabula/io.py?line=313'>314</a>\u001b[0m     \u001b[39mraise\u001b[39;00m \u001b[39mFileNotFoundError\u001b[39;00m(errno\u001b[39m.\u001b[39mENOENT, os\u001b[39m.\u001b[39mstrerror(errno\u001b[39m.\u001b[39mENOENT), path)\n",
      "File \u001b[0;32m/opt/conda/lib/python3.10/site-packages/tabula/file_util.py:48\u001b[0m, in \u001b[0;36mlocalize_file\u001b[0;34m(path_or_buffer, user_agent, suffix)\u001b[0m\n\u001b[1;32m     <a href='file:///opt/conda/lib/python3.10/site-packages/tabula/file_util.py?line=45'>46</a>\u001b[0m     req \u001b[39m=\u001b[39m urlopen(_create_request(path_or_buffer, user_agent))\n\u001b[1;32m     <a href='file:///opt/conda/lib/python3.10/site-packages/tabula/file_util.py?line=46'>47</a>\u001b[0m \u001b[39melse\u001b[39;00m:\n\u001b[0;32m---> <a href='file:///opt/conda/lib/python3.10/site-packages/tabula/file_util.py?line=47'>48</a>\u001b[0m     req \u001b[39m=\u001b[39m urlopen(path_or_buffer)\n\u001b[1;32m     <a href='file:///opt/conda/lib/python3.10/site-packages/tabula/file_util.py?line=49'>50</a>\u001b[0m parsed_url \u001b[39m=\u001b[39m urlparse(req\u001b[39m.\u001b[39mgeturl())\n\u001b[1;32m     <a href='file:///opt/conda/lib/python3.10/site-packages/tabula/file_util.py?line=50'>51</a>\u001b[0m filename \u001b[39m=\u001b[39m os\u001b[39m.\u001b[39mpath\u001b[39m.\u001b[39mbasename(parsed_url\u001b[39m.\u001b[39mpath)\n",
      "File \u001b[0;32m/opt/conda/lib/python3.10/urllib/request.py:216\u001b[0m, in \u001b[0;36murlopen\u001b[0;34m(url, data, timeout, cafile, capath, cadefault, context)\u001b[0m\n\u001b[1;32m    <a href='file:///opt/conda/lib/python3.10/urllib/request.py?line=213'>214</a>\u001b[0m \u001b[39melse\u001b[39;00m:\n\u001b[1;32m    <a href='file:///opt/conda/lib/python3.10/urllib/request.py?line=214'>215</a>\u001b[0m     opener \u001b[39m=\u001b[39m _opener\n\u001b[0;32m--> <a href='file:///opt/conda/lib/python3.10/urllib/request.py?line=215'>216</a>\u001b[0m \u001b[39mreturn\u001b[39;00m opener\u001b[39m.\u001b[39;49mopen(url, data, timeout)\n",
      "File \u001b[0;32m/opt/conda/lib/python3.10/urllib/request.py:525\u001b[0m, in \u001b[0;36mOpenerDirector.open\u001b[0;34m(self, fullurl, data, timeout)\u001b[0m\n\u001b[1;32m    <a href='file:///opt/conda/lib/python3.10/urllib/request.py?line=522'>523</a>\u001b[0m \u001b[39mfor\u001b[39;00m processor \u001b[39min\u001b[39;00m \u001b[39mself\u001b[39m\u001b[39m.\u001b[39mprocess_response\u001b[39m.\u001b[39mget(protocol, []):\n\u001b[1;32m    <a href='file:///opt/conda/lib/python3.10/urllib/request.py?line=523'>524</a>\u001b[0m     meth \u001b[39m=\u001b[39m \u001b[39mgetattr\u001b[39m(processor, meth_name)\n\u001b[0;32m--> <a href='file:///opt/conda/lib/python3.10/urllib/request.py?line=524'>525</a>\u001b[0m     response \u001b[39m=\u001b[39m meth(req, response)\n\u001b[1;32m    <a href='file:///opt/conda/lib/python3.10/urllib/request.py?line=526'>527</a>\u001b[0m \u001b[39mreturn\u001b[39;00m response\n",
      "File \u001b[0;32m/opt/conda/lib/python3.10/urllib/request.py:634\u001b[0m, in \u001b[0;36mHTTPErrorProcessor.http_response\u001b[0;34m(self, request, response)\u001b[0m\n\u001b[1;32m    <a href='file:///opt/conda/lib/python3.10/urllib/request.py?line=630'>631</a>\u001b[0m \u001b[39m# According to RFC 2616, \"2xx\" code indicates that the client's\u001b[39;00m\n\u001b[1;32m    <a href='file:///opt/conda/lib/python3.10/urllib/request.py?line=631'>632</a>\u001b[0m \u001b[39m# request was successfully received, understood, and accepted.\u001b[39;00m\n\u001b[1;32m    <a href='file:///opt/conda/lib/python3.10/urllib/request.py?line=632'>633</a>\u001b[0m \u001b[39mif\u001b[39;00m \u001b[39mnot\u001b[39;00m (\u001b[39m200\u001b[39m \u001b[39m<\u001b[39m\u001b[39m=\u001b[39m code \u001b[39m<\u001b[39m \u001b[39m300\u001b[39m):\n\u001b[0;32m--> <a href='file:///opt/conda/lib/python3.10/urllib/request.py?line=633'>634</a>\u001b[0m     response \u001b[39m=\u001b[39m \u001b[39mself\u001b[39;49m\u001b[39m.\u001b[39;49mparent\u001b[39m.\u001b[39;49merror(\n\u001b[1;32m    <a href='file:///opt/conda/lib/python3.10/urllib/request.py?line=634'>635</a>\u001b[0m         \u001b[39m'\u001b[39;49m\u001b[39mhttp\u001b[39;49m\u001b[39m'\u001b[39;49m, request, response, code, msg, hdrs)\n\u001b[1;32m    <a href='file:///opt/conda/lib/python3.10/urllib/request.py?line=636'>637</a>\u001b[0m \u001b[39mreturn\u001b[39;00m response\n",
      "File \u001b[0;32m/opt/conda/lib/python3.10/urllib/request.py:563\u001b[0m, in \u001b[0;36mOpenerDirector.error\u001b[0;34m(self, proto, *args)\u001b[0m\n\u001b[1;32m    <a href='file:///opt/conda/lib/python3.10/urllib/request.py?line=560'>561</a>\u001b[0m \u001b[39mif\u001b[39;00m http_err:\n\u001b[1;32m    <a href='file:///opt/conda/lib/python3.10/urllib/request.py?line=561'>562</a>\u001b[0m     args \u001b[39m=\u001b[39m (\u001b[39mdict\u001b[39m, \u001b[39m'\u001b[39m\u001b[39mdefault\u001b[39m\u001b[39m'\u001b[39m, \u001b[39m'\u001b[39m\u001b[39mhttp_error_default\u001b[39m\u001b[39m'\u001b[39m) \u001b[39m+\u001b[39m orig_args\n\u001b[0;32m--> <a href='file:///opt/conda/lib/python3.10/urllib/request.py?line=562'>563</a>\u001b[0m     \u001b[39mreturn\u001b[39;00m \u001b[39mself\u001b[39;49m\u001b[39m.\u001b[39;49m_call_chain(\u001b[39m*\u001b[39;49margs)\n",
      "File \u001b[0;32m/opt/conda/lib/python3.10/urllib/request.py:496\u001b[0m, in \u001b[0;36mOpenerDirector._call_chain\u001b[0;34m(self, chain, kind, meth_name, *args)\u001b[0m\n\u001b[1;32m    <a href='file:///opt/conda/lib/python3.10/urllib/request.py?line=493'>494</a>\u001b[0m \u001b[39mfor\u001b[39;00m handler \u001b[39min\u001b[39;00m handlers:\n\u001b[1;32m    <a href='file:///opt/conda/lib/python3.10/urllib/request.py?line=494'>495</a>\u001b[0m     func \u001b[39m=\u001b[39m \u001b[39mgetattr\u001b[39m(handler, meth_name)\n\u001b[0;32m--> <a href='file:///opt/conda/lib/python3.10/urllib/request.py?line=495'>496</a>\u001b[0m     result \u001b[39m=\u001b[39m func(\u001b[39m*\u001b[39;49margs)\n\u001b[1;32m    <a href='file:///opt/conda/lib/python3.10/urllib/request.py?line=496'>497</a>\u001b[0m     \u001b[39mif\u001b[39;00m result \u001b[39mis\u001b[39;00m \u001b[39mnot\u001b[39;00m \u001b[39mNone\u001b[39;00m:\n\u001b[1;32m    <a href='file:///opt/conda/lib/python3.10/urllib/request.py?line=497'>498</a>\u001b[0m         \u001b[39mreturn\u001b[39;00m result\n",
      "File \u001b[0;32m/opt/conda/lib/python3.10/urllib/request.py:643\u001b[0m, in \u001b[0;36mHTTPDefaultErrorHandler.http_error_default\u001b[0;34m(self, req, fp, code, msg, hdrs)\u001b[0m\n\u001b[1;32m    <a href='file:///opt/conda/lib/python3.10/urllib/request.py?line=641'>642</a>\u001b[0m \u001b[39mdef\u001b[39;00m \u001b[39mhttp_error_default\u001b[39m(\u001b[39mself\u001b[39m, req, fp, code, msg, hdrs):\n\u001b[0;32m--> <a href='file:///opt/conda/lib/python3.10/urllib/request.py?line=642'>643</a>\u001b[0m     \u001b[39mraise\u001b[39;00m HTTPError(req\u001b[39m.\u001b[39mfull_url, code, msg, hdrs, fp)\n",
      "\u001b[0;31mHTTPError\u001b[0m: HTTP Error 403: Forbidden"
     ]
    }
   ],
   "source": [
    "# Example from tabula docs\n",
    "df = tabula.read_pdf(\"https://www.visionofhumanity.org/wp-content/uploads/2020/10/GPI_2020_web.pdf\", pages=10)"
   ]
  },
  {
   "cell_type": "code",
   "execution_count": 10,
   "metadata": {},
   "outputs": [
    {
     "ename": "HTTPError",
     "evalue": "HTTP Error 403: Forbidden",
     "output_type": "error",
     "traceback": [
      "\u001b[0;31m---------------------------------------------------------------------------\u001b[0m",
      "\u001b[0;31mHTTPError\u001b[0m                                 Traceback (most recent call last)",
      "\u001b[1;32m/workspaces/hu-live-coding-course-examples/src/tabula-example.ipynb Cell 6'\u001b[0m in \u001b[0;36m<cell line: 1>\u001b[0;34m()\u001b[0m\n\u001b[0;32m----> <a href='vscode-notebook-cell://codespaces%2Bhu-live-coding-course-examples-q96q9p7h4r6/workspaces/hu-live-coding-course-examples/src/tabula-example.ipynb#ch0000008vscode-remote?line=0'>1</a>\u001b[0m df \u001b[39m=\u001b[39m tabula\u001b[39m.\u001b[39;49mread_pdf(\u001b[39m\"\u001b[39;49m\u001b[39mhttps://nbviewer.jupyter.org/github/kuruvasatya/Scraping-Tables-from-PDF/blob/master/data1.pdf\u001b[39;49m\u001b[39m\"\u001b[39;49m, pages \u001b[39m=\u001b[39;49m \u001b[39m1\u001b[39;49m)\n",
      "File \u001b[0;32m/opt/conda/lib/python3.10/site-packages/tabula/io.py:311\u001b[0m, in \u001b[0;36mread_pdf\u001b[0;34m(input_path, output_format, encoding, java_options, pandas_options, multiple_tables, user_agent, **kwargs)\u001b[0m\n\u001b[1;32m    <a href='file:///opt/conda/lib/python3.10/site-packages/tabula/io.py?line=307'>308</a>\u001b[0m     \u001b[39mif\u001b[39;00m \u001b[39mnot\u001b[39;00m \u001b[39many\u001b[39m(\u001b[39m\"\u001b[39m\u001b[39mfile.encoding\u001b[39m\u001b[39m\"\u001b[39m \u001b[39min\u001b[39;00m opt \u001b[39mfor\u001b[39;00m opt \u001b[39min\u001b[39;00m java_options):\n\u001b[1;32m    <a href='file:///opt/conda/lib/python3.10/site-packages/tabula/io.py?line=308'>309</a>\u001b[0m         java_options \u001b[39m+\u001b[39m\u001b[39m=\u001b[39m [\u001b[39m\"\u001b[39m\u001b[39m-Dfile.encoding=UTF8\u001b[39m\u001b[39m\"\u001b[39m]\n\u001b[0;32m--> <a href='file:///opt/conda/lib/python3.10/site-packages/tabula/io.py?line=310'>311</a>\u001b[0m path, temporary \u001b[39m=\u001b[39m localize_file(input_path, user_agent)\n\u001b[1;32m    <a href='file:///opt/conda/lib/python3.10/site-packages/tabula/io.py?line=312'>313</a>\u001b[0m \u001b[39mif\u001b[39;00m \u001b[39mnot\u001b[39;00m os\u001b[39m.\u001b[39mpath\u001b[39m.\u001b[39mexists(path):\n\u001b[1;32m    <a href='file:///opt/conda/lib/python3.10/site-packages/tabula/io.py?line=313'>314</a>\u001b[0m     \u001b[39mraise\u001b[39;00m \u001b[39mFileNotFoundError\u001b[39;00m(errno\u001b[39m.\u001b[39mENOENT, os\u001b[39m.\u001b[39mstrerror(errno\u001b[39m.\u001b[39mENOENT), path)\n",
      "File \u001b[0;32m/opt/conda/lib/python3.10/site-packages/tabula/file_util.py:48\u001b[0m, in \u001b[0;36mlocalize_file\u001b[0;34m(path_or_buffer, user_agent, suffix)\u001b[0m\n\u001b[1;32m     <a href='file:///opt/conda/lib/python3.10/site-packages/tabula/file_util.py?line=45'>46</a>\u001b[0m     req \u001b[39m=\u001b[39m urlopen(_create_request(path_or_buffer, user_agent))\n\u001b[1;32m     <a href='file:///opt/conda/lib/python3.10/site-packages/tabula/file_util.py?line=46'>47</a>\u001b[0m \u001b[39melse\u001b[39;00m:\n\u001b[0;32m---> <a href='file:///opt/conda/lib/python3.10/site-packages/tabula/file_util.py?line=47'>48</a>\u001b[0m     req \u001b[39m=\u001b[39m urlopen(path_or_buffer)\n\u001b[1;32m     <a href='file:///opt/conda/lib/python3.10/site-packages/tabula/file_util.py?line=49'>50</a>\u001b[0m parsed_url \u001b[39m=\u001b[39m urlparse(req\u001b[39m.\u001b[39mgeturl())\n\u001b[1;32m     <a href='file:///opt/conda/lib/python3.10/site-packages/tabula/file_util.py?line=50'>51</a>\u001b[0m filename \u001b[39m=\u001b[39m os\u001b[39m.\u001b[39mpath\u001b[39m.\u001b[39mbasename(parsed_url\u001b[39m.\u001b[39mpath)\n",
      "File \u001b[0;32m/opt/conda/lib/python3.10/urllib/request.py:216\u001b[0m, in \u001b[0;36murlopen\u001b[0;34m(url, data, timeout, cafile, capath, cadefault, context)\u001b[0m\n\u001b[1;32m    <a href='file:///opt/conda/lib/python3.10/urllib/request.py?line=213'>214</a>\u001b[0m \u001b[39melse\u001b[39;00m:\n\u001b[1;32m    <a href='file:///opt/conda/lib/python3.10/urllib/request.py?line=214'>215</a>\u001b[0m     opener \u001b[39m=\u001b[39m _opener\n\u001b[0;32m--> <a href='file:///opt/conda/lib/python3.10/urllib/request.py?line=215'>216</a>\u001b[0m \u001b[39mreturn\u001b[39;00m opener\u001b[39m.\u001b[39;49mopen(url, data, timeout)\n",
      "File \u001b[0;32m/opt/conda/lib/python3.10/urllib/request.py:525\u001b[0m, in \u001b[0;36mOpenerDirector.open\u001b[0;34m(self, fullurl, data, timeout)\u001b[0m\n\u001b[1;32m    <a href='file:///opt/conda/lib/python3.10/urllib/request.py?line=522'>523</a>\u001b[0m \u001b[39mfor\u001b[39;00m processor \u001b[39min\u001b[39;00m \u001b[39mself\u001b[39m\u001b[39m.\u001b[39mprocess_response\u001b[39m.\u001b[39mget(protocol, []):\n\u001b[1;32m    <a href='file:///opt/conda/lib/python3.10/urllib/request.py?line=523'>524</a>\u001b[0m     meth \u001b[39m=\u001b[39m \u001b[39mgetattr\u001b[39m(processor, meth_name)\n\u001b[0;32m--> <a href='file:///opt/conda/lib/python3.10/urllib/request.py?line=524'>525</a>\u001b[0m     response \u001b[39m=\u001b[39m meth(req, response)\n\u001b[1;32m    <a href='file:///opt/conda/lib/python3.10/urllib/request.py?line=526'>527</a>\u001b[0m \u001b[39mreturn\u001b[39;00m response\n",
      "File \u001b[0;32m/opt/conda/lib/python3.10/urllib/request.py:634\u001b[0m, in \u001b[0;36mHTTPErrorProcessor.http_response\u001b[0;34m(self, request, response)\u001b[0m\n\u001b[1;32m    <a href='file:///opt/conda/lib/python3.10/urllib/request.py?line=630'>631</a>\u001b[0m \u001b[39m# According to RFC 2616, \"2xx\" code indicates that the client's\u001b[39;00m\n\u001b[1;32m    <a href='file:///opt/conda/lib/python3.10/urllib/request.py?line=631'>632</a>\u001b[0m \u001b[39m# request was successfully received, understood, and accepted.\u001b[39;00m\n\u001b[1;32m    <a href='file:///opt/conda/lib/python3.10/urllib/request.py?line=632'>633</a>\u001b[0m \u001b[39mif\u001b[39;00m \u001b[39mnot\u001b[39;00m (\u001b[39m200\u001b[39m \u001b[39m<\u001b[39m\u001b[39m=\u001b[39m code \u001b[39m<\u001b[39m \u001b[39m300\u001b[39m):\n\u001b[0;32m--> <a href='file:///opt/conda/lib/python3.10/urllib/request.py?line=633'>634</a>\u001b[0m     response \u001b[39m=\u001b[39m \u001b[39mself\u001b[39;49m\u001b[39m.\u001b[39;49mparent\u001b[39m.\u001b[39;49merror(\n\u001b[1;32m    <a href='file:///opt/conda/lib/python3.10/urllib/request.py?line=634'>635</a>\u001b[0m         \u001b[39m'\u001b[39;49m\u001b[39mhttp\u001b[39;49m\u001b[39m'\u001b[39;49m, request, response, code, msg, hdrs)\n\u001b[1;32m    <a href='file:///opt/conda/lib/python3.10/urllib/request.py?line=636'>637</a>\u001b[0m \u001b[39mreturn\u001b[39;00m response\n",
      "File \u001b[0;32m/opt/conda/lib/python3.10/urllib/request.py:557\u001b[0m, in \u001b[0;36mOpenerDirector.error\u001b[0;34m(self, proto, *args)\u001b[0m\n\u001b[1;32m    <a href='file:///opt/conda/lib/python3.10/urllib/request.py?line=554'>555</a>\u001b[0m     http_err \u001b[39m=\u001b[39m \u001b[39m0\u001b[39m\n\u001b[1;32m    <a href='file:///opt/conda/lib/python3.10/urllib/request.py?line=555'>556</a>\u001b[0m args \u001b[39m=\u001b[39m (\u001b[39mdict\u001b[39m, proto, meth_name) \u001b[39m+\u001b[39m args\n\u001b[0;32m--> <a href='file:///opt/conda/lib/python3.10/urllib/request.py?line=556'>557</a>\u001b[0m result \u001b[39m=\u001b[39m \u001b[39mself\u001b[39;49m\u001b[39m.\u001b[39;49m_call_chain(\u001b[39m*\u001b[39;49margs)\n\u001b[1;32m    <a href='file:///opt/conda/lib/python3.10/urllib/request.py?line=557'>558</a>\u001b[0m \u001b[39mif\u001b[39;00m result:\n\u001b[1;32m    <a href='file:///opt/conda/lib/python3.10/urllib/request.py?line=558'>559</a>\u001b[0m     \u001b[39mreturn\u001b[39;00m result\n",
      "File \u001b[0;32m/opt/conda/lib/python3.10/urllib/request.py:496\u001b[0m, in \u001b[0;36mOpenerDirector._call_chain\u001b[0;34m(self, chain, kind, meth_name, *args)\u001b[0m\n\u001b[1;32m    <a href='file:///opt/conda/lib/python3.10/urllib/request.py?line=493'>494</a>\u001b[0m \u001b[39mfor\u001b[39;00m handler \u001b[39min\u001b[39;00m handlers:\n\u001b[1;32m    <a href='file:///opt/conda/lib/python3.10/urllib/request.py?line=494'>495</a>\u001b[0m     func \u001b[39m=\u001b[39m \u001b[39mgetattr\u001b[39m(handler, meth_name)\n\u001b[0;32m--> <a href='file:///opt/conda/lib/python3.10/urllib/request.py?line=495'>496</a>\u001b[0m     result \u001b[39m=\u001b[39m func(\u001b[39m*\u001b[39;49margs)\n\u001b[1;32m    <a href='file:///opt/conda/lib/python3.10/urllib/request.py?line=496'>497</a>\u001b[0m     \u001b[39mif\u001b[39;00m result \u001b[39mis\u001b[39;00m \u001b[39mnot\u001b[39;00m \u001b[39mNone\u001b[39;00m:\n\u001b[1;32m    <a href='file:///opt/conda/lib/python3.10/urllib/request.py?line=497'>498</a>\u001b[0m         \u001b[39mreturn\u001b[39;00m result\n",
      "File \u001b[0;32m/opt/conda/lib/python3.10/urllib/request.py:749\u001b[0m, in \u001b[0;36mHTTPRedirectHandler.http_error_302\u001b[0;34m(self, req, fp, code, msg, headers)\u001b[0m\n\u001b[1;32m    <a href='file:///opt/conda/lib/python3.10/urllib/request.py?line=745'>746</a>\u001b[0m fp\u001b[39m.\u001b[39mread()\n\u001b[1;32m    <a href='file:///opt/conda/lib/python3.10/urllib/request.py?line=746'>747</a>\u001b[0m fp\u001b[39m.\u001b[39mclose()\n\u001b[0;32m--> <a href='file:///opt/conda/lib/python3.10/urllib/request.py?line=748'>749</a>\u001b[0m \u001b[39mreturn\u001b[39;00m \u001b[39mself\u001b[39;49m\u001b[39m.\u001b[39;49mparent\u001b[39m.\u001b[39;49mopen(new, timeout\u001b[39m=\u001b[39;49mreq\u001b[39m.\u001b[39;49mtimeout)\n",
      "File \u001b[0;32m/opt/conda/lib/python3.10/urllib/request.py:525\u001b[0m, in \u001b[0;36mOpenerDirector.open\u001b[0;34m(self, fullurl, data, timeout)\u001b[0m\n\u001b[1;32m    <a href='file:///opt/conda/lib/python3.10/urllib/request.py?line=522'>523</a>\u001b[0m \u001b[39mfor\u001b[39;00m processor \u001b[39min\u001b[39;00m \u001b[39mself\u001b[39m\u001b[39m.\u001b[39mprocess_response\u001b[39m.\u001b[39mget(protocol, []):\n\u001b[1;32m    <a href='file:///opt/conda/lib/python3.10/urllib/request.py?line=523'>524</a>\u001b[0m     meth \u001b[39m=\u001b[39m \u001b[39mgetattr\u001b[39m(processor, meth_name)\n\u001b[0;32m--> <a href='file:///opt/conda/lib/python3.10/urllib/request.py?line=524'>525</a>\u001b[0m     response \u001b[39m=\u001b[39m meth(req, response)\n\u001b[1;32m    <a href='file:///opt/conda/lib/python3.10/urllib/request.py?line=526'>527</a>\u001b[0m \u001b[39mreturn\u001b[39;00m response\n",
      "File \u001b[0;32m/opt/conda/lib/python3.10/urllib/request.py:634\u001b[0m, in \u001b[0;36mHTTPErrorProcessor.http_response\u001b[0;34m(self, request, response)\u001b[0m\n\u001b[1;32m    <a href='file:///opt/conda/lib/python3.10/urllib/request.py?line=630'>631</a>\u001b[0m \u001b[39m# According to RFC 2616, \"2xx\" code indicates that the client's\u001b[39;00m\n\u001b[1;32m    <a href='file:///opt/conda/lib/python3.10/urllib/request.py?line=631'>632</a>\u001b[0m \u001b[39m# request was successfully received, understood, and accepted.\u001b[39;00m\n\u001b[1;32m    <a href='file:///opt/conda/lib/python3.10/urllib/request.py?line=632'>633</a>\u001b[0m \u001b[39mif\u001b[39;00m \u001b[39mnot\u001b[39;00m (\u001b[39m200\u001b[39m \u001b[39m<\u001b[39m\u001b[39m=\u001b[39m code \u001b[39m<\u001b[39m \u001b[39m300\u001b[39m):\n\u001b[0;32m--> <a href='file:///opt/conda/lib/python3.10/urllib/request.py?line=633'>634</a>\u001b[0m     response \u001b[39m=\u001b[39m \u001b[39mself\u001b[39;49m\u001b[39m.\u001b[39;49mparent\u001b[39m.\u001b[39;49merror(\n\u001b[1;32m    <a href='file:///opt/conda/lib/python3.10/urllib/request.py?line=634'>635</a>\u001b[0m         \u001b[39m'\u001b[39;49m\u001b[39mhttp\u001b[39;49m\u001b[39m'\u001b[39;49m, request, response, code, msg, hdrs)\n\u001b[1;32m    <a href='file:///opt/conda/lib/python3.10/urllib/request.py?line=636'>637</a>\u001b[0m \u001b[39mreturn\u001b[39;00m response\n",
      "File \u001b[0;32m/opt/conda/lib/python3.10/urllib/request.py:563\u001b[0m, in \u001b[0;36mOpenerDirector.error\u001b[0;34m(self, proto, *args)\u001b[0m\n\u001b[1;32m    <a href='file:///opt/conda/lib/python3.10/urllib/request.py?line=560'>561</a>\u001b[0m \u001b[39mif\u001b[39;00m http_err:\n\u001b[1;32m    <a href='file:///opt/conda/lib/python3.10/urllib/request.py?line=561'>562</a>\u001b[0m     args \u001b[39m=\u001b[39m (\u001b[39mdict\u001b[39m, \u001b[39m'\u001b[39m\u001b[39mdefault\u001b[39m\u001b[39m'\u001b[39m, \u001b[39m'\u001b[39m\u001b[39mhttp_error_default\u001b[39m\u001b[39m'\u001b[39m) \u001b[39m+\u001b[39m orig_args\n\u001b[0;32m--> <a href='file:///opt/conda/lib/python3.10/urllib/request.py?line=562'>563</a>\u001b[0m     \u001b[39mreturn\u001b[39;00m \u001b[39mself\u001b[39;49m\u001b[39m.\u001b[39;49m_call_chain(\u001b[39m*\u001b[39;49margs)\n",
      "File \u001b[0;32m/opt/conda/lib/python3.10/urllib/request.py:496\u001b[0m, in \u001b[0;36mOpenerDirector._call_chain\u001b[0;34m(self, chain, kind, meth_name, *args)\u001b[0m\n\u001b[1;32m    <a href='file:///opt/conda/lib/python3.10/urllib/request.py?line=493'>494</a>\u001b[0m \u001b[39mfor\u001b[39;00m handler \u001b[39min\u001b[39;00m handlers:\n\u001b[1;32m    <a href='file:///opt/conda/lib/python3.10/urllib/request.py?line=494'>495</a>\u001b[0m     func \u001b[39m=\u001b[39m \u001b[39mgetattr\u001b[39m(handler, meth_name)\n\u001b[0;32m--> <a href='file:///opt/conda/lib/python3.10/urllib/request.py?line=495'>496</a>\u001b[0m     result \u001b[39m=\u001b[39m func(\u001b[39m*\u001b[39;49margs)\n\u001b[1;32m    <a href='file:///opt/conda/lib/python3.10/urllib/request.py?line=496'>497</a>\u001b[0m     \u001b[39mif\u001b[39;00m result \u001b[39mis\u001b[39;00m \u001b[39mnot\u001b[39;00m \u001b[39mNone\u001b[39;00m:\n\u001b[1;32m    <a href='file:///opt/conda/lib/python3.10/urllib/request.py?line=497'>498</a>\u001b[0m         \u001b[39mreturn\u001b[39;00m result\n",
      "File \u001b[0;32m/opt/conda/lib/python3.10/urllib/request.py:643\u001b[0m, in \u001b[0;36mHTTPDefaultErrorHandler.http_error_default\u001b[0;34m(self, req, fp, code, msg, hdrs)\u001b[0m\n\u001b[1;32m    <a href='file:///opt/conda/lib/python3.10/urllib/request.py?line=641'>642</a>\u001b[0m \u001b[39mdef\u001b[39;00m \u001b[39mhttp_error_default\u001b[39m(\u001b[39mself\u001b[39m, req, fp, code, msg, hdrs):\n\u001b[0;32m--> <a href='file:///opt/conda/lib/python3.10/urllib/request.py?line=642'>643</a>\u001b[0m     \u001b[39mraise\u001b[39;00m HTTPError(req\u001b[39m.\u001b[39mfull_url, code, msg, hdrs, fp)\n",
      "\u001b[0;31mHTTPError\u001b[0m: HTTP Error 403: Forbidden"
     ]
    }
   ],
   "source": [
    "df = tabula.read_pdf(\"https://nbviewer.jupyter.org/github/kuruvasatya/Scraping-Tables-from-PDF/blob/master/data1.pdf\", pages = 1)"
   ]
  },
  {
   "cell_type": "code",
   "execution_count": null,
   "metadata": {},
   "outputs": [],
   "source": []
  }
 ],
 "metadata": {
  "interpreter": {
   "hash": "d4d1e4263499bec80672ea0156c357c1ee493ec2b1c70f0acce89fc37c4a6abe"
  },
  "kernelspec": {
   "display_name": "Python 3.10.4 ('base')",
   "language": "python",
   "name": "python3"
  },
  "language_info": {
   "codemirror_mode": {
    "name": "ipython",
    "version": 3
   },
   "file_extension": ".py",
   "mimetype": "text/x-python",
   "name": "python",
   "nbconvert_exporter": "python",
   "pygments_lexer": "ipython3",
   "version": "3.10.4"
  },
  "orig_nbformat": 4
 },
 "nbformat": 4,
 "nbformat_minor": 2
}
